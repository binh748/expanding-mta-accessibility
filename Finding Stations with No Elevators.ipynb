{
 "cells": [
  {
   "cell_type": "code",
   "execution_count": null,
   "metadata": {},
   "outputs": [],
   "source": [
    "import pandas as pd\n",
    "station_with = pd.read_csv('Stations with Elevators.csv')\n",
    "station_all=pd.read_csv('Manhattan Stations.csv')\n",
    "\n",
    "rows=[]\n",
    "without=[]\n",
    "for i,r in station_with.iterrows():\n",
    "    rows.append(r[5])\n",
    "\n",
    "rows=[item for items in rows for item in items.split(\",\")]\n",
    "\n",
    "\n",
    "for index, row in station_all.iterrows():\n",
    "    if str(row[0]) not in rows:\n",
    "            without.append(row)\n",
    "\n",
    "        \n",
    "           \n",
    "\n",
    "dff = pd.DataFrame(without)  \n",
    "dff.to_csv('Stations With No Elevator2.csv', index=False)"
   ]
  }
 ],
 "metadata": {
  "kernelspec": {
   "display_name": "Python 3",
   "language": "python",
   "name": "python3"
  },
  "language_info": {
   "codemirror_mode": {
    "name": "ipython",
    "version": 3
   },
   "file_extension": ".py",
   "mimetype": "text/x-python",
   "name": "python",
   "nbconvert_exporter": "python",
   "pygments_lexer": "ipython3",
   "version": "3.7.6"
  }
 },
 "nbformat": 4,
 "nbformat_minor": 4
}
